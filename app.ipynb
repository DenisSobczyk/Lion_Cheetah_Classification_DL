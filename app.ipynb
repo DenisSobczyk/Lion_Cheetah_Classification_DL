{
 "cells": [
  {
   "cell_type": "markdown",
   "metadata": {},
   "source": [
    "# Lion Cheetah Classification task\n",
    "\n",
    "Baed on the following Kaggle data set: https://www.kaggle.com/datasets/mikoajfish99/lions-or-cheetahs-image-classification"
   ]
  },
  {
   "cell_type": "code",
   "execution_count": 1,
   "metadata": {},
   "outputs": [
    {
     "ename": "",
     "evalue": "",
     "output_type": "error",
     "traceback": [
      "\u001b[1;31mThe Kernel crashed while executing code in the the current cell or a previous cell. Please review the code in the cell(s) to identify a possible cause of the failure. Click <a href='https://aka.ms/vscodeJupyterKernelCrash'>here</a> for more info. View Jupyter <a href='command:jupyter.viewOutput'>log</a> for further details."
     ]
    }
   ],
   "source": [
    "import tensorflow"
   ]
  },
  {
   "cell_type": "code",
   "execution_count": 1,
   "metadata": {},
   "outputs": [
    {
     "ename": "",
     "evalue": "",
     "output_type": "error",
     "traceback": [
      "\u001b[1;31mThe Kernel crashed while executing code in the the current cell or a previous cell. Please review the code in the cell(s) to identify a possible cause of the failure. Click <a href='https://aka.ms/vscodeJupyterKernelCrash'>here</a> for more info. View Jupyter <a href='command:jupyter.viewOutput'>log</a> for further details."
     ]
    }
   ],
   "source": [
    "import tensorflow"
   ]
  },
  {
   "cell_type": "code",
   "execution_count": null,
   "metadata": {},
   "outputs": [],
   "source": []
  },
  {
   "cell_type": "code",
   "execution_count": 6,
   "metadata": {},
   "outputs": [
    {
     "ename": "NameError",
     "evalue": "name 'os' is not defined",
     "output_type": "error",
     "traceback": [
      "\u001b[0;31m---------------------------------------------------------------------------\u001b[0m",
      "\u001b[0;31mNameError\u001b[0m                                 Traceback (most recent call last)",
      "\u001b[1;32m/Users/denco_23/Documents/AI/Projects/Classification/Lion_Cheetah_Classification/app.ipynb Cell 3\u001b[0m line \u001b[0;36m1\n\u001b[1;32m     <a href='vscode-notebook-cell:/Users/denco_23/Documents/AI/Projects/Classification/Lion_Cheetah_Classification/app.ipynb#W1sZmlsZQ%3D%3D?line=14'>15</a>\u001b[0m                 labels\u001b[39m.\u001b[39mappend(folder\u001b[39m.\u001b[39msplit(\u001b[39m'\u001b[39m\u001b[39m/\u001b[39m\u001b[39m'\u001b[39m)[\u001b[39m-\u001b[39m\u001b[39m1\u001b[39m])  \u001b[39m# Assuming folder name is the label\u001b[39;00m\n\u001b[1;32m     <a href='vscode-notebook-cell:/Users/denco_23/Documents/AI/Projects/Classification/Lion_Cheetah_Classification/app.ipynb#W1sZmlsZQ%3D%3D?line=15'>16</a>\u001b[0m     \u001b[39mreturn\u001b[39;00m images, labels\n\u001b[0;32m---> <a href='vscode-notebook-cell:/Users/denco_23/Documents/AI/Projects/Classification/Lion_Cheetah_Classification/app.ipynb#W1sZmlsZQ%3D%3D?line=17'>18</a>\u001b[0m cheetah_images, cheetah_labels \u001b[39m=\u001b[39m load_images_from_folder(cheetah_folder)\n\u001b[1;32m     <a href='vscode-notebook-cell:/Users/denco_23/Documents/AI/Projects/Classification/Lion_Cheetah_Classification/app.ipynb#W1sZmlsZQ%3D%3D?line=18'>19</a>\u001b[0m lion_images, lion_labels \u001b[39m=\u001b[39m load_images_from_folder(lion_folder)\n",
      "\u001b[1;32m/Users/denco_23/Documents/AI/Projects/Classification/Lion_Cheetah_Classification/app.ipynb Cell 3\u001b[0m line \u001b[0;36m9\n\u001b[1;32m      <a href='vscode-notebook-cell:/Users/denco_23/Documents/AI/Projects/Classification/Lion_Cheetah_Classification/app.ipynb#W1sZmlsZQ%3D%3D?line=6'>7</a>\u001b[0m images \u001b[39m=\u001b[39m []\n\u001b[1;32m      <a href='vscode-notebook-cell:/Users/denco_23/Documents/AI/Projects/Classification/Lion_Cheetah_Classification/app.ipynb#W1sZmlsZQ%3D%3D?line=7'>8</a>\u001b[0m labels \u001b[39m=\u001b[39m []\n\u001b[0;32m----> <a href='vscode-notebook-cell:/Users/denco_23/Documents/AI/Projects/Classification/Lion_Cheetah_Classification/app.ipynb#W1sZmlsZQ%3D%3D?line=8'>9</a>\u001b[0m \u001b[39mfor\u001b[39;00m filename \u001b[39min\u001b[39;00m os\u001b[39m.\u001b[39mlistdir(folder):\n\u001b[1;32m     <a href='vscode-notebook-cell:/Users/denco_23/Documents/AI/Projects/Classification/Lion_Cheetah_Classification/app.ipynb#W1sZmlsZQ%3D%3D?line=9'>10</a>\u001b[0m     img_path \u001b[39m=\u001b[39m os\u001b[39m.\u001b[39mpath\u001b[39m.\u001b[39mjoin(folder, filename)\n\u001b[1;32m     <a href='vscode-notebook-cell:/Users/denco_23/Documents/AI/Projects/Classification/Lion_Cheetah_Classification/app.ipynb#W1sZmlsZQ%3D%3D?line=10'>11</a>\u001b[0m     \u001b[39mif\u001b[39;00m os\u001b[39m.\u001b[39mpath\u001b[39m.\u001b[39misfile(img_path):\n",
      "\u001b[0;31mNameError\u001b[0m: name 'os' is not defined"
     ]
    }
   ],
   "source": [
    "# In this case, we have two data sets separting cheetah and lions images\n",
    "\n",
    "cheetah_folder = \"./images/Cheetah\"\n",
    "lion_folder = \"./images/Lions\"\n",
    "\n",
    "def load_images_from_folder(folder):\n",
    "    images = []\n",
    "    labels = []\n",
    "    for filename in os.listdir(folder):\n",
    "        img_path = os.path.join(folder, filename)\n",
    "        if os.path.isfile(img_path):\n",
    "            image = cv2.imread(img_path)\n",
    "            if image is not None:\n",
    "                images.append(image)\n",
    "                labels.append(folder.split('/')[-1])  # Assuming folder name is the label\n",
    "    return images, labels\n",
    "\n",
    "cheetah_images, cheetah_labels = load_images_from_folder(cheetah_folder)\n",
    "lion_images, lion_labels = load_images_from_folder(lion_folder)"
   ]
  },
  {
   "cell_type": "code",
   "execution_count": null,
   "metadata": {},
   "outputs": [],
   "source": []
  }
 ],
 "metadata": {
  "kernelspec": {
   "display_name": "venv",
   "language": "python",
   "name": "python3"
  },
  "language_info": {
   "codemirror_mode": {
    "name": "ipython",
    "version": 3
   },
   "file_extension": ".py",
   "mimetype": "text/x-python",
   "name": "python",
   "nbconvert_exporter": "python",
   "pygments_lexer": "ipython3",
   "version": "3.11.7"
  }
 },
 "nbformat": 4,
 "nbformat_minor": 2
}
